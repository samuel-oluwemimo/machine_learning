{
  "nbformat": 4,
  "nbformat_minor": 0,
  "metadata": {
    "colab": {
      "provenance": [],
      "authorship_tag": "ABX9TyO/10GHEnpkf2E+bLyqxz8R",
      "include_colab_link": true
    },
    "kernelspec": {
      "name": "python3",
      "display_name": "Python 3"
    },
    "language_info": {
      "name": "python"
    }
  },
  "cells": [
    {
      "cell_type": "markdown",
      "metadata": {
        "id": "view-in-github",
        "colab_type": "text"
      },
      "source": [
        "<a href=\"https://colab.research.google.com/github/samuel-oluwemimo/machine_learning/blob/main/NeuralNetworks__.ipynb\" target=\"_parent\"><img src=\"https://colab.research.google.com/assets/colab-badge.svg\" alt=\"Open In Colab\"/></a>"
      ]
    },
    {
      "cell_type": "markdown",
      "source": [
        "#Classification"
      ],
      "metadata": {
        "id": "0knS_ClGM8O4"
      }
    },
    {
      "cell_type": "markdown",
      "source": [
        "## Fashion Mnist Classification"
      ],
      "metadata": {
        "id": "cPo11G6Z_8Zf"
      }
    },
    {
      "cell_type": "code",
      "execution_count": 1,
      "metadata": {
        "id": "YJmkUkmW_zfE"
      },
      "outputs": [],
      "source": [
        "import tensorflow as tf\n",
        "from tensorflow import keras"
      ]
    },
    {
      "cell_type": "code",
      "source": [
        "fashionMnist = keras.datasets.fashion_mnist\n",
        "(X_train_full, y_train_full), (X_test, y_test) = fashionMnist.load_data()"
      ],
      "metadata": {
        "colab": {
          "base_uri": "https://localhost:8080/"
        },
        "id": "zluIozh7AU3z",
        "outputId": "84225b72-f201-4f69-a0e9-b58059765021"
      },
      "execution_count": 2,
      "outputs": [
        {
          "output_type": "stream",
          "name": "stdout",
          "text": [
            "Downloading data from https://storage.googleapis.com/tensorflow/tf-keras-datasets/train-labels-idx1-ubyte.gz\n",
            "29515/29515 [==============================] - 0s 0us/step\n",
            "Downloading data from https://storage.googleapis.com/tensorflow/tf-keras-datasets/train-images-idx3-ubyte.gz\n",
            "26421880/26421880 [==============================] - 0s 0us/step\n",
            "Downloading data from https://storage.googleapis.com/tensorflow/tf-keras-datasets/t10k-labels-idx1-ubyte.gz\n",
            "5148/5148 [==============================] - 0s 0us/step\n",
            "Downloading data from https://storage.googleapis.com/tensorflow/tf-keras-datasets/t10k-images-idx3-ubyte.gz\n",
            "4422102/4422102 [==============================] - 0s 0us/step\n"
          ]
        }
      ]
    },
    {
      "cell_type": "code",
      "source": [
        "X_valid, X_train = X_train_full[:5000] / 255.0, X_train_full[5000:] / 255.0\n",
        "y_valid, y_train = y_train_full[:5000], y_train_full[5000:]"
      ],
      "metadata": {
        "id": "hav0phhHA35v"
      },
      "execution_count": 3,
      "outputs": []
    },
    {
      "cell_type": "code",
      "source": [
        "class_names = [\"T-shirt/top\", \"Trouser\", \"Pullover\", \"Dress\", \"Coat\",\n",
        " \"Sandal\", \"Shirt\", \"Sneaker\", \"Bag\", \"Ankle boot\"]"
      ],
      "metadata": {
        "id": "KXnYULf2BuQb"
      },
      "execution_count": 4,
      "outputs": []
    },
    {
      "cell_type": "code",
      "source": [
        "class_names[y_train[12]]"
      ],
      "metadata": {
        "colab": {
          "base_uri": "https://localhost:8080/",
          "height": 36
        },
        "id": "hyx_RVvcB3fH",
        "outputId": "90059ccd-45f0-49b0-f9e1-eda04295b043"
      },
      "execution_count": 5,
      "outputs": [
        {
          "output_type": "execute_result",
          "data": {
            "text/plain": [
              "'Bag'"
            ],
            "application/vnd.google.colaboratory.intrinsic+json": {
              "type": "string"
            }
          },
          "metadata": {},
          "execution_count": 5
        }
      ]
    },
    {
      "cell_type": "code",
      "source": [
        "model = keras.models.Sequential([\n",
        "    keras.layers.Flatten(input_shape=[28,28]),\n",
        "    keras.layers.Dense(300, activation='relu'),\n",
        "    keras.layers.Dense(100, activation='relu'),\n",
        "    keras.layers.Dense(10, activation='softmax')\n",
        "])"
      ],
      "metadata": {
        "id": "rawA76qsB_6x"
      },
      "execution_count": 6,
      "outputs": []
    },
    {
      "cell_type": "code",
      "source": [
        "model.summary()"
      ],
      "metadata": {
        "colab": {
          "base_uri": "https://localhost:8080/"
        },
        "id": "6QQ7oHWNEv2J",
        "outputId": "7298a10e-a738-4dee-ee38-2e7786ca2f32"
      },
      "execution_count": 7,
      "outputs": [
        {
          "output_type": "stream",
          "name": "stdout",
          "text": [
            "Model: \"sequential\"\n",
            "_________________________________________________________________\n",
            " Layer (type)                Output Shape              Param #   \n",
            "=================================================================\n",
            " flatten (Flatten)           (None, 784)               0         \n",
            "                                                                 \n",
            " dense (Dense)               (None, 300)               235500    \n",
            "                                                                 \n",
            " dense_1 (Dense)             (None, 100)               30100     \n",
            "                                                                 \n",
            " dense_2 (Dense)             (None, 10)                1010      \n",
            "                                                                 \n",
            "=================================================================\n",
            "Total params: 266610 (1.02 MB)\n",
            "Trainable params: 266610 (1.02 MB)\n",
            "Non-trainable params: 0 (0.00 Byte)\n",
            "_________________________________________________________________\n"
          ]
        }
      ]
    },
    {
      "cell_type": "code",
      "source": [
        "model.compile(loss='sparse_categorical_crossentropy',\n",
        "              optimizer='sgd',\n",
        "              metrics=['accuracy'])"
      ],
      "metadata": {
        "id": "Vy9h6BlNE_Wy"
      },
      "execution_count": 8,
      "outputs": []
    },
    {
      "cell_type": "code",
      "source": [
        "history = model.fit(X_train, y_train, epochs=30,\n",
        "                    validation_data=(X_valid,y_valid))"
      ],
      "metadata": {
        "colab": {
          "base_uri": "https://localhost:8080/"
        },
        "id": "EtwbeC_iGeEw",
        "outputId": "e44490c0-cefa-4dce-9744-9fbfb0d061e6"
      },
      "execution_count": 9,
      "outputs": [
        {
          "output_type": "stream",
          "name": "stdout",
          "text": [
            "Epoch 1/30\n",
            "1719/1719 [==============================] - 7s 4ms/step - loss: 0.7128 - accuracy: 0.7637 - val_loss: 0.5096 - val_accuracy: 0.8256\n",
            "Epoch 2/30\n",
            "1719/1719 [==============================] - 4s 2ms/step - loss: 0.4830 - accuracy: 0.8324 - val_loss: 0.4446 - val_accuracy: 0.8472\n",
            "Epoch 3/30\n",
            "1719/1719 [==============================] - 6s 3ms/step - loss: 0.4378 - accuracy: 0.8479 - val_loss: 0.4163 - val_accuracy: 0.8554\n",
            "Epoch 4/30\n",
            "1719/1719 [==============================] - 7s 4ms/step - loss: 0.4116 - accuracy: 0.8550 - val_loss: 0.4032 - val_accuracy: 0.8614\n",
            "Epoch 5/30\n",
            "1719/1719 [==============================] - 8s 5ms/step - loss: 0.3911 - accuracy: 0.8613 - val_loss: 0.3796 - val_accuracy: 0.8672\n",
            "Epoch 6/30\n",
            "1719/1719 [==============================] - 5s 3ms/step - loss: 0.3760 - accuracy: 0.8681 - val_loss: 0.3670 - val_accuracy: 0.8704\n",
            "Epoch 7/30\n",
            "1719/1719 [==============================] - 4s 3ms/step - loss: 0.3632 - accuracy: 0.8709 - val_loss: 0.3679 - val_accuracy: 0.8672\n",
            "Epoch 8/30\n",
            "1719/1719 [==============================] - 4s 2ms/step - loss: 0.3502 - accuracy: 0.8749 - val_loss: 0.3741 - val_accuracy: 0.8678\n",
            "Epoch 9/30\n",
            "1719/1719 [==============================] - 4s 2ms/step - loss: 0.3406 - accuracy: 0.8786 - val_loss: 0.3538 - val_accuracy: 0.8708\n",
            "Epoch 10/30\n",
            "1719/1719 [==============================] - 4s 3ms/step - loss: 0.3315 - accuracy: 0.8814 - val_loss: 0.3370 - val_accuracy: 0.8814\n",
            "Epoch 11/30\n",
            "1719/1719 [==============================] - 4s 2ms/step - loss: 0.3228 - accuracy: 0.8851 - val_loss: 0.3428 - val_accuracy: 0.8776\n",
            "Epoch 12/30\n",
            "1719/1719 [==============================] - 4s 2ms/step - loss: 0.3161 - accuracy: 0.8873 - val_loss: 0.3308 - val_accuracy: 0.8826\n",
            "Epoch 13/30\n",
            "1719/1719 [==============================] - 4s 3ms/step - loss: 0.3087 - accuracy: 0.8894 - val_loss: 0.3634 - val_accuracy: 0.8676\n",
            "Epoch 14/30\n",
            "1719/1719 [==============================] - 4s 2ms/step - loss: 0.3020 - accuracy: 0.8907 - val_loss: 0.3224 - val_accuracy: 0.8846\n",
            "Epoch 15/30\n",
            "1719/1719 [==============================] - 4s 2ms/step - loss: 0.2957 - accuracy: 0.8929 - val_loss: 0.3342 - val_accuracy: 0.8754\n",
            "Epoch 16/30\n",
            "1719/1719 [==============================] - 4s 3ms/step - loss: 0.2899 - accuracy: 0.8938 - val_loss: 0.3147 - val_accuracy: 0.8860\n",
            "Epoch 17/30\n",
            "1719/1719 [==============================] - 4s 2ms/step - loss: 0.2846 - accuracy: 0.8977 - val_loss: 0.3170 - val_accuracy: 0.8872\n",
            "Epoch 18/30\n",
            "1719/1719 [==============================] - 4s 2ms/step - loss: 0.2788 - accuracy: 0.8992 - val_loss: 0.3177 - val_accuracy: 0.8828\n",
            "Epoch 19/30\n",
            "1719/1719 [==============================] - 4s 2ms/step - loss: 0.2744 - accuracy: 0.8997 - val_loss: 0.3077 - val_accuracy: 0.8908\n",
            "Epoch 20/30\n",
            "1719/1719 [==============================] - 4s 2ms/step - loss: 0.2684 - accuracy: 0.9025 - val_loss: 0.3120 - val_accuracy: 0.8864\n",
            "Epoch 21/30\n",
            "1719/1719 [==============================] - 4s 2ms/step - loss: 0.2641 - accuracy: 0.9037 - val_loss: 0.3016 - val_accuracy: 0.8920\n",
            "Epoch 22/30\n",
            "1719/1719 [==============================] - 4s 2ms/step - loss: 0.2594 - accuracy: 0.9053 - val_loss: 0.3087 - val_accuracy: 0.8926\n",
            "Epoch 23/30\n",
            "1719/1719 [==============================] - 4s 2ms/step - loss: 0.2554 - accuracy: 0.9071 - val_loss: 0.2991 - val_accuracy: 0.8890\n",
            "Epoch 24/30\n",
            "1719/1719 [==============================] - 4s 2ms/step - loss: 0.2494 - accuracy: 0.9092 - val_loss: 0.3105 - val_accuracy: 0.8864\n",
            "Epoch 25/30\n",
            "1719/1719 [==============================] - 4s 2ms/step - loss: 0.2459 - accuracy: 0.9110 - val_loss: 0.3130 - val_accuracy: 0.8914\n",
            "Epoch 26/30\n",
            "1719/1719 [==============================] - 4s 2ms/step - loss: 0.2420 - accuracy: 0.9115 - val_loss: 0.3110 - val_accuracy: 0.8888\n",
            "Epoch 27/30\n",
            "1719/1719 [==============================] - 4s 3ms/step - loss: 0.2377 - accuracy: 0.9139 - val_loss: 0.2865 - val_accuracy: 0.8972\n",
            "Epoch 28/30\n",
            "1719/1719 [==============================] - 4s 2ms/step - loss: 0.2341 - accuracy: 0.9143 - val_loss: 0.2896 - val_accuracy: 0.8972\n",
            "Epoch 29/30\n",
            "1719/1719 [==============================] - 4s 2ms/step - loss: 0.2299 - accuracy: 0.9162 - val_loss: 0.3343 - val_accuracy: 0.8816\n",
            "Epoch 30/30\n",
            "1719/1719 [==============================] - 4s 2ms/step - loss: 0.2269 - accuracy: 0.9178 - val_loss: 0.2930 - val_accuracy: 0.8916\n"
          ]
        }
      ]
    },
    {
      "cell_type": "code",
      "source": [
        "import pandas as pd\n",
        "import matplotlib.pyplot as plt\n",
        "\n",
        "pd.DataFrame(history.history).plot(figsize=(8, 5))\n",
        "plt.grid(True)\n",
        "plt.gca().set_ylim(0, 1) # set the vertical range to [0-1]\n",
        "plt.show()"
      ],
      "metadata": {
        "colab": {
          "base_uri": "https://localhost:8080/",
          "height": 451
        },
        "id": "CjrrC1YlIAQ5",
        "outputId": "15440834-ca77-4026-c77d-6aa3bb5fb129"
      },
      "execution_count": 10,
      "outputs": [
        {
          "output_type": "display_data",
          "data": {
            "text/plain": [
              "<Figure size 800x500 with 1 Axes>"
            ],
            "image/png": "[encoded data removed]"
          },
          "metadata": {}
        }
      ]
    },
    {
      "cell_type": "code",
      "source": [
        "model.evaluate(X_test, y_test)"
      ],
      "metadata": {
        "colab": {
          "base_uri": "https://localhost:8080/"
        },
        "id": "a3whCmBpJF9E",
        "outputId": "df0f1eb7-c261-441b-fb08-a4bbc861d0ac"
      },
      "execution_count": 11,
      "outputs": [
        {
          "output_type": "stream",
          "name": "stdout",
          "text": [
            "313/313 [==============================] - 1s 1ms/step - loss: 56.7997 - accuracy: 0.8546\n"
          ]
        },
        {
          "output_type": "execute_result",
          "data": {
            "text/plain": [
              "[56.7996826171875, 0.8546000123023987]"
            ]
          },
          "metadata": {},
          "execution_count": 11
        }
      ]
    },
    {
      "cell_type": "code",
      "source": [
        "X_new = X_test[:3]\n",
        "y_proba = model.predict(X_new)\n",
        "y_proba.round(2)"
      ],
      "metadata": {
        "colab": {
          "base_uri": "https://localhost:8080/"
        },
        "id": "02roTpfvKYEU",
        "outputId": "83362b54-4f6f-4ded-b60d-cda2568d90d1"
      },
      "execution_count": 12,
      "outputs": [
        {
          "output_type": "stream",
          "name": "stdout",
          "text": [
            "1/1 [==============================] - 0s 64ms/step\n"
          ]
        },
        {
          "output_type": "execute_result",
          "data": {
            "text/plain": [
              "array([[0., 0., 0., 0., 0., 0., 0., 0., 0., 1.],\n",
              "       [0., 0., 1., 0., 0., 0., 0., 0., 0., 0.],\n",
              "       [0., 1., 0., 0., 0., 0., 0., 0., 0., 0.]], dtype=float32)"
            ]
          },
          "metadata": {},
          "execution_count": 12
        }
      ]
    },
    {
      "cell_type": "code",
      "source": [
        "import numpy as np\n",
        "y_pred = np.argmax(model.predict(X_new), axis=-1)\n",
        "y_pred"
      ],
      "metadata": {
        "colab": {
          "base_uri": "https://localhost:8080/"
        },
        "id": "-f5Yy5dqLKEI",
        "outputId": "7cb7b5f3-0339-43d6-bc21-1618209ef8c4"
      },
      "execution_count": 27,
      "outputs": [
        {
          "output_type": "stream",
          "name": "stdout",
          "text": [
            "1/1 [==============================] - 0s 87ms/step\n"
          ]
        },
        {
          "output_type": "execute_result",
          "data": {
            "text/plain": [
              "array([0, 0, 0])"
            ]
          },
          "metadata": {},
          "execution_count": 27
        }
      ]
    },
    {
      "cell_type": "markdown",
      "source": [
        "#Regression using sequential api"
      ],
      "metadata": {
        "id": "uNaM2AYGQL94"
      }
    },
    {
      "cell_type": "markdown",
      "source": [
        "##California housing"
      ],
      "metadata": {
        "id": "fKhECbuoQPND"
      }
    },
    {
      "cell_type": "code",
      "source": [
        "from sklearn.datasets import fetch_california_housing\n",
        "from sklearn.model_selection import train_test_split\n",
        "from sklearn.preprocessing import StandardScaler"
      ],
      "metadata": {
        "id": "C5BZYe_gLnQw"
      },
      "execution_count": 35,
      "outputs": []
    },
    {
      "cell_type": "code",
      "source": [
        "housing = fetch_california_housing()\n",
        "X_train, X_test, y_train, y_test = train_test_split(housing.data, housing.target)\n"
      ],
      "metadata": {
        "id": "z8GXQ1RkRzol"
      },
      "execution_count": 36,
      "outputs": []
    },
    {
      "cell_type": "code",
      "source": [
        "scaler = StandardScaler()\n",
        "X_train_scaled = scaler.fit_transform(X_train)\n",
        "X_test_scaled = scaler.transform(X_test)"
      ],
      "metadata": {
        "id": "aBAFYcfuSNN8"
      },
      "execution_count": 37,
      "outputs": []
    },
    {
      "cell_type": "code",
      "source": [
        "model = keras.models.Sequential([\n",
        "    keras.layers.Dense(30, activation='relu', input_shape=X_train.shape[1:]),\n",
        "    keras.layers.Dense(1)\n",
        "])"
      ],
      "metadata": {
        "id": "hcYeOElYSs7t"
      },
      "execution_count": 48,
      "outputs": []
    },
    {
      "cell_type": "code",
      "source": [
        "model.compile(loss=\"mean_squared_error\", optimizer=keras.optimizers.SGD(learning_rate=1e-3))"
      ],
      "metadata": {
        "id": "CGEmsCKlTYXL"
      },
      "execution_count": 49,
      "outputs": []
    },
    {
      "cell_type": "code",
      "source": [
        "history = model.fit(X_train_scaled, y_train, epochs=20,\n",
        "                    validation_split=0.2)"
      ],
      "metadata": {
        "colab": {
          "base_uri": "https://localhost:8080/"
        },
        "id": "SWvZMv7yTo5q",
        "outputId": "6c184a8a-84bb-4deb-b749-7607c1f5008c"
      },
      "execution_count": 50,
      "outputs": [
        {
          "output_type": "stream",
          "name": "stdout",
          "text": [
            "Epoch 1/20\n",
            "387/387 [==============================] - 1s 2ms/step - loss: 2.1158 - val_loss: 0.9266\n",
            "Epoch 2/20\n",
            "387/387 [==============================] - 1s 1ms/step - loss: 1.1398 - val_loss: 0.7312\n",
            "Epoch 3/20\n",
            "387/387 [==============================] - 0s 1ms/step - loss: 0.7129 - val_loss: 0.6756\n",
            "Epoch 4/20\n",
            "387/387 [==============================] - 0s 1ms/step - loss: 0.6673 - val_loss: 0.6388\n",
            "Epoch 5/20\n",
            "387/387 [==============================] - 1s 1ms/step - loss: 0.6365 - val_loss: 0.6102\n",
            "Epoch 6/20\n",
            "387/387 [==============================] - 1s 1ms/step - loss: 0.6124 - val_loss: 0.5872\n",
            "Epoch 7/20\n",
            "387/387 [==============================] - 1s 1ms/step - loss: 0.5926 - val_loss: 0.5688\n",
            "Epoch 8/20\n",
            "387/387 [==============================] - 1s 1ms/step - loss: 0.5760 - val_loss: 0.5512\n",
            "Epoch 9/20\n",
            "387/387 [==============================] - 0s 1ms/step - loss: 0.5633 - val_loss: 0.5381\n",
            "Epoch 10/20\n",
            "387/387 [==============================] - 0s 1ms/step - loss: 0.5517 - val_loss: 0.5276\n",
            "Epoch 11/20\n",
            "387/387 [==============================] - 0s 1ms/step - loss: 0.5415 - val_loss: 0.5183\n",
            "Epoch 12/20\n",
            "387/387 [==============================] - 1s 1ms/step - loss: 0.5332 - val_loss: 0.5084\n",
            "Epoch 13/20\n",
            "387/387 [==============================] - 1s 2ms/step - loss: 0.5259 - val_loss: 0.5023\n",
            "Epoch 14/20\n",
            "387/387 [==============================] - 1s 2ms/step - loss: 0.5191 - val_loss: 0.4949\n",
            "Epoch 15/20\n",
            "387/387 [==============================] - 0s 1ms/step - loss: 0.5129 - val_loss: 0.4890\n",
            "Epoch 16/20\n",
            "387/387 [==============================] - 0s 1ms/step - loss: 0.5077 - val_loss: 0.4851\n",
            "Epoch 17/20\n",
            "387/387 [==============================] - 1s 1ms/step - loss: 0.5022 - val_loss: 0.4781\n",
            "Epoch 18/20\n",
            "387/387 [==============================] - 0s 1ms/step - loss: 0.4985 - val_loss: 0.4746\n",
            "Epoch 19/20\n",
            "387/387 [==============================] - 1s 1ms/step - loss: 0.4949 - val_loss: 0.4705\n",
            "Epoch 20/20\n",
            "387/387 [==============================] - 0s 1ms/step - loss: 0.4905 - val_loss: 0.4650\n"
          ]
        }
      ]
    },
    {
      "cell_type": "code",
      "source": [
        "plt.plot(pd.DataFrame(history.history))\n",
        "plt.grid(True)\n",
        "plt.gca().set_ylim(0, 1)\n",
        "plt.show()"
      ],
      "metadata": {
        "colab": {
          "base_uri": "https://localhost:8080/",
          "height": 435
        },
        "id": "4vwS3m0qw9sg",
        "outputId": "71077800-53e2-4028-c78c-82d21e08fc19"
      },
      "execution_count": 51,
      "outputs": [
        {
          "output_type": "display_data",
          "data": {
            "text/plain": [
              "<Figure size 640x480 with 1 Axes>"
            ],
            "image/png": "[encoded data removed]"
          },
          "metadata": {}
        }
      ]
    },
    {
      "cell_type": "code",
      "source": [
        "mse = model.evaluate(X_test_scaled, y_test)"
      ],
      "metadata": {
        "colab": {
          "base_uri": "https://localhost:8080/"
        },
        "id": "ygr-gusLUbMy",
        "outputId": "de993774-0866-4539-8036-8986b4955815"
      },
      "execution_count": 52,
      "outputs": [
        {
          "output_type": "stream",
          "name": "stdout",
          "text": [
            "162/162 [==============================] - 0s 892us/step - loss: 0.4792\n"
          ]
        }
      ]
    },
    {
      "cell_type": "code",
      "source": [
        "X_new = X_test[:3] # pretend these are new instances\n",
        "y_pred = model.predict(X_new)"
      ],
      "metadata": {
        "colab": {
          "base_uri": "https://localhost:8080/"
        },
        "id": "i5SUa5tRUt48",
        "outputId": "3b1616b4-0492-45b7-98be-006f0f830a68"
      },
      "execution_count": 53,
      "outputs": [
        {
          "output_type": "stream",
          "name": "stdout",
          "text": [
            "1/1 [==============================] - 0s 39ms/step\n"
          ]
        }
      ]
    },
    {
      "cell_type": "code",
      "source": [
        "y_pred"
      ],
      "metadata": {
        "colab": {
          "base_uri": "https://localhost:8080/"
        },
        "id": "xoxCqMAKUyh4",
        "outputId": "b60c8864-0c83-4cd0-b5f4-caa899914a06"
      },
      "execution_count": 54,
      "outputs": [
        {
          "output_type": "execute_result",
          "data": {
            "text/plain": [
              "array([[162.21399],\n",
              "       [175.22223],\n",
              "       [278.86453]], dtype=float32)"
            ]
          },
          "metadata": {},
          "execution_count": 54
        }
      ]
    },
    {
      "cell_type": "markdown",
      "source": [
        "#Regression using functional api"
      ],
      "metadata": {
        "id": "CA8935cwpHy_"
      }
    },
    {
      "cell_type": "code",
      "source": [
        "input_ = keras.layers.Input(shape=X_train.shape[1:])\n",
        "hidden1 = keras.layers.Dense(30, activation=\"relu\")(input_)\n",
        "hidden2 = keras.layers.Dense(30, activation=\"relu\")(hidden1)\n",
        "concat = keras.layers.concatenate([input_, hidden2])\n",
        "output = keras.layers.Dense(1)(concat)\n",
        "model = keras.models.Model(inputs=[input_], outputs=[output])"
      ],
      "metadata": {
        "id": "RBaWFAGcU1AO"
      },
      "execution_count": 55,
      "outputs": []
    },
    {
      "cell_type": "code",
      "source": [
        "model.compile(loss=\"mean_squared_error\", optimizer=keras.optimizers.SGD(learning_rate=1e-3))\n",
        "history = model.fit(X_train_scaled, y_train, epochs=20,\n",
        "                    validation_split=0.2)\n",
        "mse_test = model.evaluate(X_test_scaled, y_test)\n",
        "y_pred = model.predict(X_new)"
      ],
      "metadata": {
        "colab": {
          "base_uri": "https://localhost:8080/"
        },
        "id": "TNOMQd7urHnF",
        "outputId": "bde30a35-e256-4335-93cf-53827073bc40"
      },
      "execution_count": 56,
      "outputs": [
        {
          "output_type": "stream",
          "name": "stdout",
          "text": [
            "Epoch 1/20\n",
            "387/387 [==============================] - 1s 2ms/step - loss: 2.3635 - val_loss: 1.1843\n",
            "Epoch 2/20\n",
            "387/387 [==============================] - 1s 2ms/step - loss: 0.9954 - val_loss: 0.7084\n",
            "Epoch 3/20\n",
            "387/387 [==============================] - 1s 2ms/step - loss: 0.7173 - val_loss: 0.6367\n",
            "Epoch 4/20\n",
            "387/387 [==============================] - 0s 1ms/step - loss: 0.6333 - val_loss: 0.5973\n",
            "Epoch 5/20\n",
            "387/387 [==============================] - 1s 1ms/step - loss: 0.5963 - val_loss: 0.5658\n",
            "Epoch 6/20\n",
            "387/387 [==============================] - 0s 1ms/step - loss: 0.5700 - val_loss: 0.5405\n",
            "Epoch 7/20\n",
            "387/387 [==============================] - 1s 1ms/step - loss: 0.5495 - val_loss: 0.5206\n",
            "Epoch 8/20\n",
            "387/387 [==============================] - 0s 1ms/step - loss: 0.5335 - val_loss: 0.5041\n",
            "Epoch 9/20\n",
            "387/387 [==============================] - 1s 1ms/step - loss: 0.5187 - val_loss: 0.4897\n",
            "Epoch 10/20\n",
            "387/387 [==============================] - 0s 1ms/step - loss: 0.5081 - val_loss: 0.4863\n",
            "Epoch 11/20\n",
            "387/387 [==============================] - 0s 1ms/step - loss: 0.4981 - val_loss: 0.4716\n",
            "Epoch 12/20\n",
            "387/387 [==============================] - 0s 1ms/step - loss: 0.4877 - val_loss: 0.4619\n",
            "Epoch 13/20\n",
            "387/387 [==============================] - 1s 1ms/step - loss: 0.4816 - val_loss: 0.4527\n",
            "Epoch 14/20\n",
            "387/387 [==============================] - 0s 1ms/step - loss: 0.4744 - val_loss: 0.4476\n",
            "Epoch 15/20\n",
            "387/387 [==============================] - 1s 1ms/step - loss: 0.4690 - val_loss: 0.4408\n",
            "Epoch 16/20\n",
            "387/387 [==============================] - 0s 1ms/step - loss: 0.4630 - val_loss: 0.4356\n",
            "Epoch 17/20\n",
            "387/387 [==============================] - 1s 1ms/step - loss: 0.4587 - val_loss: 0.4307\n",
            "Epoch 18/20\n",
            "387/387 [==============================] - 0s 1ms/step - loss: 0.4545 - val_loss: 0.4276\n",
            "Epoch 19/20\n",
            "387/387 [==============================] - 1s 1ms/step - loss: 0.4498 - val_loss: 0.4256\n",
            "Epoch 20/20\n",
            "387/387 [==============================] - 1s 1ms/step - loss: 0.4472 - val_loss: 0.4201\n",
            "162/162 [==============================] - 0s 1ms/step - loss: 0.4431\n",
            "1/1 [==============================] - 0s 43ms/step\n"
          ]
        }
      ]
    },
    {
      "cell_type": "code",
      "source": [
        "y_pred = model.predict(X_new)\n",
        "y_pred"
      ],
      "metadata": {
        "colab": {
          "base_uri": "https://localhost:8080/"
        },
        "id": "B80rq1DjtBvv",
        "outputId": "5a741d57-1dbd-4335-953a-da9ad53ad640"
      },
      "execution_count": 57,
      "outputs": [
        {
          "output_type": "stream",
          "name": "stdout",
          "text": [
            "1/1 [==============================] - 0s 14ms/step\n"
          ]
        },
        {
          "output_type": "execute_result",
          "data": {
            "text/plain": [
              "array([[161.77441],\n",
              "       [179.888  ],\n",
              "       [295.9828 ]], dtype=float32)"
            ]
          },
          "metadata": {},
          "execution_count": 57
        }
      ]
    },
    {
      "cell_type": "code",
      "source": [
        "inputA = keras.layers.Input(shape=[5])\n",
        "inputB = keras.layers.Input(shape=[6])\n",
        "hidden1 = keras.layers.Dense(30, activation='relu')(inputB)\n",
        "hidden2 = keras.layers.Dense(30, activation='relu')(hidden1)\n",
        "concat= keras.layers.concatenate([inputA,hidden1])\n",
        "output = keras.layers.Dense(1)(concat)\n",
        "aux_output = keras.layers.Dense(1)(hidden2)\n",
        "model = keras.models.Model(inputs=[inputA,inputB], outputs=[output,aux_output])"
      ],
      "metadata": {
        "id": "agkz1lQEuheZ"
      },
      "execution_count": 61,
      "outputs": []
    },
    {
      "cell_type": "code",
      "source": [
        "X_train_A, X_train_B = X_train_scaled[:, :5], X_train_scaled[:, 2:]\n",
        "X_test_A, X_test_B = X_test_scaled[:, :5], X_test_scaled[:, 2:]\n",
        "X_new_A, X_new_B = X_test_A[:3], X_test_B[:3]"
      ],
      "metadata": {
        "id": "XtroBueS2k_x"
      },
      "execution_count": 63,
      "outputs": []
    },
    {
      "cell_type": "code",
      "source": [
        "model.compile(loss=['mean_squared_error','mean_squared_error'],\n",
        "              loss_weights=[0.9, 0.1],\n",
        "              optimizer=keras.optimizers.SGD(learning_rate=1e-3))\n",
        "\n",
        "history = model.fit((X_train_A, X_train_B),(y_train, y_train),epochs=20, validation_split=0.2)"
      ],
      "metadata": {
        "colab": {
          "base_uri": "https://localhost:8080/"
        },
        "id": "mgGG9xVL28xK",
        "outputId": "4d0aa330-7ec2-4d02-91dd-7171ac048581"
      },
      "execution_count": 65,
      "outputs": [
        {
          "output_type": "stream",
          "name": "stdout",
          "text": [
            "Epoch 1/20\n",
            "387/387 [==============================] - 2s 3ms/step - loss: 2.7859 - dense_26_loss: 2.3951 - dense_27_loss: 6.3028 - val_loss: 1.4109 - val_dense_26_loss: 1.0098 - val_dense_27_loss: 5.0206\n",
            "Epoch 2/20\n",
            "387/387 [==============================] - 1s 2ms/step - loss: 1.1547 - dense_26_loss: 0.8444 - dense_27_loss: 3.9482 - val_loss: 0.9690 - val_dense_26_loss: 0.7095 - val_dense_27_loss: 3.3038\n",
            "Epoch 3/20\n",
            "387/387 [==============================] - 1s 1ms/step - loss: 0.8986 - dense_26_loss: 0.6950 - dense_27_loss: 2.7317 - val_loss: 0.8224 - val_dense_26_loss: 0.6469 - val_dense_27_loss: 2.4026\n",
            "Epoch 4/20\n",
            "387/387 [==============================] - 1s 2ms/step - loss: 0.7957 - dense_26_loss: 0.6506 - dense_27_loss: 2.1023 - val_loss: 0.7466 - val_dense_26_loss: 0.6125 - val_dense_27_loss: 1.9543\n",
            "Epoch 5/20\n",
            "387/387 [==============================] - 1s 2ms/step - loss: 0.7380 - dense_26_loss: 0.6213 - dense_27_loss: 1.7887 - val_loss: 0.7032 - val_dense_26_loss: 0.5899 - val_dense_27_loss: 1.7231\n",
            "Epoch 6/20\n",
            "387/387 [==============================] - 1s 1ms/step - loss: 0.7016 - dense_26_loss: 0.5996 - dense_27_loss: 1.6197 - val_loss: 0.6741 - val_dense_26_loss: 0.5704 - val_dense_27_loss: 1.6070\n",
            "Epoch 7/20\n",
            "387/387 [==============================] - 1s 2ms/step - loss: 0.6783 - dense_26_loss: 0.5844 - dense_27_loss: 1.5234 - val_loss: 0.6542 - val_dense_26_loss: 0.5557 - val_dense_27_loss: 1.5411\n",
            "Epoch 8/20\n",
            "387/387 [==============================] - 1s 2ms/step - loss: 0.6590 - dense_26_loss: 0.5700 - dense_27_loss: 1.4605 - val_loss: 0.6388 - val_dense_26_loss: 0.5435 - val_dense_27_loss: 1.4961\n",
            "Epoch 9/20\n",
            "387/387 [==============================] - 1s 2ms/step - loss: 0.6440 - dense_26_loss: 0.5585 - dense_27_loss: 1.4136 - val_loss: 0.6252 - val_dense_26_loss: 0.5324 - val_dense_27_loss: 1.4605\n",
            "Epoch 10/20\n",
            "387/387 [==============================] - 1s 2ms/step - loss: 0.6324 - dense_26_loss: 0.5498 - dense_27_loss: 1.3761 - val_loss: 0.6155 - val_dense_26_loss: 0.5251 - val_dense_27_loss: 1.4298\n",
            "Epoch 11/20\n",
            "387/387 [==============================] - 1s 1ms/step - loss: 0.6220 - dense_26_loss: 0.5418 - dense_27_loss: 1.3442 - val_loss: 0.6060 - val_dense_26_loss: 0.5174 - val_dense_27_loss: 1.4036\n",
            "Epoch 12/20\n",
            "387/387 [==============================] - 1s 2ms/step - loss: 0.6129 - dense_26_loss: 0.5347 - dense_27_loss: 1.3168 - val_loss: 0.5975 - val_dense_26_loss: 0.5105 - val_dense_27_loss: 1.3800\n",
            "Epoch 13/20\n",
            "387/387 [==============================] - 1s 1ms/step - loss: 0.6053 - dense_26_loss: 0.5288 - dense_27_loss: 1.2940 - val_loss: 0.5905 - val_dense_26_loss: 0.5053 - val_dense_27_loss: 1.3572\n",
            "Epoch 14/20\n",
            "387/387 [==============================] - 1s 2ms/step - loss: 0.5986 - dense_26_loss: 0.5239 - dense_27_loss: 1.2709 - val_loss: 0.5846 - val_dense_26_loss: 0.5011 - val_dense_27_loss: 1.3361\n",
            "Epoch 15/20\n",
            "387/387 [==============================] - 1s 1ms/step - loss: 0.5927 - dense_26_loss: 0.5195 - dense_27_loss: 1.2520 - val_loss: 0.5792 - val_dense_26_loss: 0.4975 - val_dense_27_loss: 1.3148\n",
            "Epoch 16/20\n",
            "387/387 [==============================] - 1s 2ms/step - loss: 0.5871 - dense_26_loss: 0.5154 - dense_27_loss: 1.2325 - val_loss: 0.5738 - val_dense_26_loss: 0.4936 - val_dense_27_loss: 1.2950\n",
            "Epoch 17/20\n",
            "387/387 [==============================] - 1s 2ms/step - loss: 0.5824 - dense_26_loss: 0.5122 - dense_27_loss: 1.2140 - val_loss: 0.5685 - val_dense_26_loss: 0.4899 - val_dense_27_loss: 1.2759\n",
            "Epoch 18/20\n",
            "387/387 [==============================] - 1s 1ms/step - loss: 0.5776 - dense_26_loss: 0.5088 - dense_27_loss: 1.1975 - val_loss: 0.5644 - val_dense_26_loss: 0.4875 - val_dense_27_loss: 1.2570\n",
            "Epoch 19/20\n",
            "387/387 [==============================] - 1s 1ms/step - loss: 0.5740 - dense_26_loss: 0.5066 - dense_27_loss: 1.1808 - val_loss: 0.5600 - val_dense_26_loss: 0.4846 - val_dense_27_loss: 1.2391\n",
            "Epoch 20/20\n",
            "387/387 [==============================] - 1s 1ms/step - loss: 0.5699 - dense_26_loss: 0.5037 - dense_27_loss: 1.1654 - val_loss: 0.5556 - val_dense_26_loss: 0.4817 - val_dense_27_loss: 1.2213\n"
          ]
        }
      ]
    },
    {
      "cell_type": "code",
      "source": [
        "total_loss, main_loss, aux_loss = model.evaluate(\n",
        "    [X_test_A, X_test_B], [y_test, y_test])\n",
        "y_pred_main, y_pred_aux = model.predict([X_new_A, X_new_B])"
      ],
      "metadata": {
        "colab": {
          "base_uri": "https://localhost:8080/"
        },
        "id": "I_vrhsKv5XYe",
        "outputId": "cd0de2ef-b6bf-44b3-fc40-d8dc408cdf18"
      },
      "execution_count": 66,
      "outputs": [
        {
          "output_type": "stream",
          "name": "stdout",
          "text": [
            "162/162 [==============================] - 0s 2ms/step - loss: 0.5725 - dense_26_loss: 0.5021 - dense_27_loss: 1.2068\n",
            "1/1 [==============================] - 0s 84ms/step\n"
          ]
        }
      ]
    },
    {
      "cell_type": "code",
      "source": [
        "y_pred_main"
      ],
      "metadata": {
        "colab": {
          "base_uri": "https://localhost:8080/"
        },
        "id": "Hbgl8s2T6o5C",
        "outputId": "62c7c78d-cc80-467f-b37f-8065f11002ac"
      },
      "execution_count": 67,
      "outputs": [
        {
          "output_type": "execute_result",
          "data": {
            "text/plain": [
              "array([[1.4981027],\n",
              "       [1.4389473],\n",
              "       [1.1267948]], dtype=float32)"
            ]
          },
          "metadata": {},
          "execution_count": 67
        }
      ]
    },
    {
      "cell_type": "code",
      "source": [
        "y_pred_aux"
      ],
      "metadata": {
        "colab": {
          "base_uri": "https://localhost:8080/"
        },
        "id": "-vy9m0466t_3",
        "outputId": "94f2a9d0-677c-4f20-ee8e-67811ecad8f4"
      },
      "execution_count": 68,
      "outputs": [
        {
          "output_type": "execute_result",
          "data": {
            "text/plain": [
              "array([[2.3800879],\n",
              "       [2.297667 ],\n",
              "       [2.283299 ]], dtype=float32)"
            ]
          },
          "metadata": {},
          "execution_count": 68
        }
      ]
    },
    {
      "cell_type": "code",
      "source": [],
      "metadata": {
        "id": "wGj59SiB6xa0"
      },
      "execution_count": null,
      "outputs": []
    }
  ]
}